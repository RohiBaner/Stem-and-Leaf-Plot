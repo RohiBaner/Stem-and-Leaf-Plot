{
 "cells": [
  {
   "cell_type": "code",
   "execution_count": 18,
   "metadata": {},
   "outputs": [
    {
     "name": "stdout",
     "output_type": "stream",
     "text": [
      "Would you like to input dataset via file? (Y/N): n\n",
      "\n",
      "Please enter the starting point: 45\n",
      "Please enter the ending point: 56\n",
      "How long would you like your data to range?: 67\n",
      "\n",
      "Please find your stem and leaf plot below:\n",
      "4  |  [5, 5, 5, 5, 5, 6, 6, 6, 6, 6, 7, 7, 7, 7, 8, 8, 8, 8, 9, 9, 9, 9, 9, 9]\n",
      "5  |  [0, 0, 0, 0, 0, 0, 1, 1, 1, 1, 1, 1, 2, 2, 2, 2, 2, 3, 3, 3, 3, 3, 4, 4, 4, 4, 4, 4, 5, 5, 5, 5, 5, 5, 6, 6, 6, 6, 6, 6, 6, 6, 6]\n"
     ]
    }
   ],
   "source": [
    "import random\n",
    "import pandas as pd\n",
    "\n",
    "# Check if user wants to input data via file or generate randomly\n",
    "data_source = input(\"Would you like to input dataset via file? (Y/N): \")\n",
    "\n",
    "# Read file via data.csv file\n",
    "if data_source.lower() == \"y\":\n",
    "    print(\"\\nReading your input file...\")\n",
    "    data = pd.read_csv(\"data.csv\", header=None)\n",
    "    data = sorted(data[0].tolist())\n",
    "\n",
    "# Get required user inputs and generate dataset with random integers\n",
    "elif data_source.lower != \"y\":\n",
    "    start = int(input(\"\\nPlease enter the starting point: \"))\n",
    "    end = int(input(\"Please enter the ending point: \"))\n",
    "    data_len = int(input(\"How long would you like your data to range?: \"))\n",
    "    data = [random.randint(start,end) for x in range(data_len)]\n",
    "    data = sorted(data)  \n",
    "\n",
    "# Generate stem and leaf plot\n",
    "stem_leaf_dict = {}\n",
    "for i in data:\n",
    "    key = i//10\n",
    "    val = i%10\n",
    "    if key in stem_leaf_dict:\n",
    "        stem_leaf_dict[key].append(val)\n",
    "    else:\n",
    "        stem_leaf_dict[key] = [val]\n",
    "        \n",
    "# Print the stem and leaf plot\n",
    "print(\"\\nPlease find your stem and leaf plot below:\")\n",
    "for k,v in stem_leaf_dict.items():\n",
    "    print(k, ' | ', v)"
   ]
  },
  {
   "cell_type": "code",
   "execution_count": null,
   "metadata": {},
   "outputs": [],
   "source": []
  }
 ],
 "metadata": {
  "kernelspec": {
   "display_name": "Python 3",
   "language": "python",
   "name": "python3"
  },
  "language_info": {
   "codemirror_mode": {
    "name": "ipython",
    "version": 3
   },
   "file_extension": ".py",
   "mimetype": "text/x-python",
   "name": "python",
   "nbconvert_exporter": "python",
   "pygments_lexer": "ipython3",
   "version": "3.6.5"
  }
 },
 "nbformat": 4,
 "nbformat_minor": 2
}
